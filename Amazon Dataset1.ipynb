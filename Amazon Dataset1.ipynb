{
 "cells": [
  {
   "cell_type": "code",
   "execution_count": null,
   "id": "30bdb559",
   "metadata": {},
   "outputs": [],
   "source": [
    "import numpy as np\n",
    "import pandas as pd\n",
    "import seaborn as sns\n",
    "import matplotlib.pyplot as plt\n"
   ]
  },
  {
   "cell_type": "code",
   "execution_count": null,
   "id": "85fa03f1",
   "metadata": {},
   "outputs": [],
   "source": [
    "Amazon_sales = pd.read_csv('C:/Users/Dell/Desktop/end to end proj/Amazon Sales Records (2).csv')\n",
    "Amazon_sales.head()"
   ]
  },
  {
   "cell_type": "code",
   "execution_count": null,
   "id": "2f1ff888",
   "metadata": {},
   "outputs": [],
   "source": [
    "##checking null data\n",
    "Amazon_sales.isnull().sum()"
   ]
  },
  {
   "cell_type": "code",
   "execution_count": null,
   "id": "f6ae9607",
   "metadata": {},
   "outputs": [],
   "source": [
    "Amazon_sales.dtypes"
   ]
  },
  {
   "cell_type": "code",
   "execution_count": null,
   "id": "51f1e140",
   "metadata": {},
   "outputs": [],
   "source": [
    "##getting descriptive data\n",
    "Amazon_sales.describe()"
   ]
  },
  {
   "cell_type": "code",
   "execution_count": null,
   "id": "7a151ea7",
   "metadata": {},
   "outputs": [],
   "source": [
    "type(\"Order_Date\")"
   ]
  },
  {
   "cell_type": "code",
   "execution_count": null,
   "id": "3c386b94",
   "metadata": {},
   "outputs": [],
   "source": [
    "##converting orderdate and ship date column to datetype\n",
    "from datetime import datetime\n",
    "Amazon_sales['Ship_date1'] = pd.to_datetime(Amazon_sales.Ship_Date, format = '%m/%d/%Y')\n",
    "Amazon_sales['Order_date1'] = pd.to_datetime(Amazon_sales.Order_Date, format = '%m/%d/%Y')"
   ]
  },
  {
   "cell_type": "code",
   "execution_count": null,
   "id": "4ed9d5bd",
   "metadata": {},
   "outputs": [],
   "source": [
    "Amazon_sales"
   ]
  },
  {
   "cell_type": "code",
   "execution_count": null,
   "id": "b9148389",
   "metadata": {},
   "outputs": [],
   "source": [
    "##getting diference between order date and ship date to get average difference in days\n",
    "Amazon_sales['Day_gap'] = (Amazon_sales['Ship_date1']-Amazon_sales['Order_date1'])/np.timedelta64(1,\"D\")\n",
    "Amazon_sales"
   ]
  },
  {
   "cell_type": "code",
   "execution_count": null,
   "id": "eb42f050",
   "metadata": {},
   "outputs": [],
   "source": [
    "##using necessary columns by creating a new dataframe\n",
    "Amazon_sales2 = Amazon_sales[['Region','Country','Item_Type','Sales_Channel','Order_Priority', 'Order_ID', 'Units_Sold',\n",
    "                              'Unit_Price','Unit_Cost',\n",
    "                              'Total_Revenue','Total_Cost','Total_Profit','Ship_date1','Order_date1','Day_gap']]"
   ]
  },
  {
   "cell_type": "code",
   "execution_count": null,
   "id": "6771a57c",
   "metadata": {},
   "outputs": [],
   "source": [
    "Amazon_sales2"
   ]
  },
  {
   "cell_type": "code",
   "execution_count": null,
   "id": "f4a85360",
   "metadata": {},
   "outputs": [],
   "source": [
    "##checking null values\n",
    "Amazon_sales2.isnull().sum()"
   ]
  },
  {
   "cell_type": "code",
   "execution_count": null,
   "id": "5c773994",
   "metadata": {
    "scrolled": true
   },
   "outputs": [],
   "source": [
    "plt.figure(figsize=(15,5))\n",
    "sns.heatmap(Amazon_sales2.corr(method='pearson'), annot=True, vmin=-1, vmax=1, cmap='YlGnBu')"
   ]
  },
  {
   "cell_type": "code",
   "execution_count": null,
   "id": "9aa453f8",
   "metadata": {},
   "outputs": [],
   "source": [
    "##observations\n",
    "##1. Units sold and unit price is least correlated\n",
    "##2. Total cost is highly realted to, Total Revenue that means as cost of production is increasing it is causing better profits\n",
    "# this may be due to high quality products fetching more sales\n",
    "##3. Total revenue is not as correlated to Units_sold as it is with Unit cost.\n",
    "#That means people are interested in buying high quality products as a result of High cost."
   ]
  },
  {
   "cell_type": "code",
   "execution_count": null,
   "id": "60e01161",
   "metadata": {},
   "outputs": [],
   "source": [
    "Amazon_sales2['Sales'] = Amazon_sales2['Units_Sold'] *  Amazon_sales2['Unit_Cost']\n",
    "Amazon_sales2"
   ]
  },
  {
   "cell_type": "code",
   "execution_count": null,
   "id": "6a5a0901",
   "metadata": {},
   "outputs": [],
   "source": [
    "Amazon_sales2['Month'] =Amazon_sales2['Order_date1'].dt.month\n",
    "Amazon_sales2"
   ]
  },
  {
   "cell_type": "code",
   "execution_count": null,
   "id": "15cb07d8",
   "metadata": {},
   "outputs": [],
   "source": [
    "Amazon_sales2.to_csv('C:/Users/Dell/Desktop/end to end proj.csv', index = False)"
   ]
  },
  {
   "cell_type": "code",
   "execution_count": null,
   "id": "a7ff1a50",
   "metadata": {},
   "outputs": [],
   "source": []
  }
 ],
 "metadata": {
  "kernelspec": {
   "display_name": "Python 3 (ipykernel)",
   "language": "python",
   "name": "python3"
  },
  "language_info": {
   "codemirror_mode": {
    "name": "ipython",
    "version": 3
   },
   "file_extension": ".py",
   "mimetype": "text/x-python",
   "name": "python",
   "nbconvert_exporter": "python",
   "pygments_lexer": "ipython3",
   "version": "3.11.2"
  }
 },
 "nbformat": 4,
 "nbformat_minor": 5
}
